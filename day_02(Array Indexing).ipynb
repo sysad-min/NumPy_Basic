{
 "cells": [
  {
   "cell_type": "code",
   "execution_count": 1,
   "id": "ee72fc5e",
   "metadata": {},
   "outputs": [],
   "source": [
    "import numpy as np"
   ]
  },
  {
   "cell_type": "markdown",
   "id": "9bc9fa78",
   "metadata": {},
   "source": [
    "## 배열의 index 접근"
   ]
  },
  {
   "cell_type": "code",
   "execution_count": 33,
   "id": "d16bc133",
   "metadata": {},
   "outputs": [
    {
     "name": "stdout",
     "output_type": "stream",
     "text": [
      "[0 1 2 3 4 5 6 7 8 9]\n",
      "3\n",
      "1\n",
      "9\n",
      "7\n",
      "0\n"
     ]
    }
   ],
   "source": [
    "# 1차원 배열\n",
    "arr = np.arange(10)\n",
    "print(arr)\n",
    "print(arr[3])\n",
    "print(arr[1])\n",
    "print(arr[-1])\n",
    "print(arr[-3])\n",
    "print(arr[-10])"
   ]
  },
  {
   "cell_type": "code",
   "execution_count": 34,
   "id": "54581e43",
   "metadata": {},
   "outputs": [
    {
     "name": "stdout",
     "output_type": "stream",
     "text": [
      "[[ 1  2  3  4]\n",
      " [ 5  6  7  8]\n",
      " [ 9 10 11 12]] (3, 4) \n",
      " 2\n",
      "4\n",
      "4\n"
     ]
    }
   ],
   "source": [
    "# 2차원 배열\n",
    "arr = np.array([[1,2,3,4],[5,6,7,8],[9,10,11,12]])\n",
    "print(arr, arr.shape, \"\\n\", arr.ndim)\n",
    "print(arr[0][3])\n",
    "print(arr[0,3])"
   ]
  },
  {
   "cell_type": "code",
   "execution_count": 35,
   "id": "f17db461",
   "metadata": {},
   "outputs": [
    {
     "name": "stdout",
     "output_type": "stream",
     "text": [
      "[3 4 5 6 7]\n",
      "[3 4 5 6 7 8 9]\n",
      "[0 1 2 3 4 5]\n",
      "[0 1 2 3 4 5 6 7 8]\n"
     ]
    }
   ],
   "source": [
    "arr = np.arange(10)\n",
    "print(arr[3:8])\n",
    "print(arr[3:])\n",
    "print(arr[:6])\n",
    "print(arr[:-1])"
   ]
  },
  {
   "cell_type": "code",
   "execution_count": 36,
   "id": "78ee4a30",
   "metadata": {},
   "outputs": [
    {
     "name": "stdout",
     "output_type": "stream",
     "text": [
      "[[ 1  2  3  4]\n",
      " [ 5  6  7  8]\n",
      " [ 9 10 11 12]]\n",
      "[1 2 3 4]\n",
      "[ 2  6 10]\n",
      "[[ 1  2  3  4]\n",
      " [ 5  6  7  8]\n",
      " [ 9 10 11 12]]\n",
      "[[3 4]\n",
      " [7 8]]\n"
     ]
    }
   ],
   "source": [
    "# 2차원 배열\n",
    "arr = np.array([[1,2,3,4],[5,6,7,8],[9,10,11,12]])\n",
    "print(arr)\n",
    "print(arr[0,:])\n",
    "print(arr[:,1])\n",
    "print(arr[:3, :])\n",
    "print(arr[:2, 2:])"
   ]
  },
  {
   "cell_type": "markdown",
   "id": "a292f876",
   "metadata": {},
   "source": [
    "## Fancy indexing"
   ]
  },
  {
   "cell_type": "code",
   "execution_count": 44,
   "id": "a729c5a8",
   "metadata": {},
   "outputs": [
    {
     "name": "stdout",
     "output_type": "stream",
     "text": [
      "[ 0  5 10 15 20 25 30]\n",
      "[ 0 10 20]\n"
     ]
    }
   ],
   "source": [
    "# 1차원 배열\n",
    "arr = np.arange(0, 31, 5)\n",
    "print(arr)\n",
    "print(arr[[0,2,4]])"
   ]
  },
  {
   "cell_type": "code",
   "execution_count": 45,
   "id": "99f010eb",
   "metadata": {},
   "outputs": [
    {
     "name": "stdout",
     "output_type": "stream",
     "text": [
      "[[ 5 10 15 20]\n",
      " [25 30 35 40]\n",
      " [45 50 55 60]]\n",
      "[[15 20]\n",
      " [55 60]]\n",
      "[[35 40]\n",
      " [55 60]]\n"
     ]
    }
   ],
   "source": [
    "# 2차원 배열\n",
    "arr = np.array([[5,10,15,20],\n",
    "               [25,30,35,40],\n",
    "               [45,50,55,60]])\n",
    "print(arr)\n",
    "print(arr[[0,2], 2:])\n",
    "print(arr[1:, [2, 3]])"
   ]
  },
  {
   "cell_type": "code",
   "execution_count": null,
   "id": "e35335bb",
   "metadata": {},
   "outputs": [],
   "source": []
  }
 ],
 "metadata": {
  "kernelspec": {
   "display_name": "py3.9_study",
   "language": "python",
   "name": "py3.9_study"
  },
  "language_info": {
   "codemirror_mode": {
    "name": "ipython",
    "version": 3
   },
   "file_extension": ".py",
   "mimetype": "text/x-python",
   "name": "python",
   "nbconvert_exporter": "python",
   "pygments_lexer": "ipython3",
   "version": "3.9.7"
  }
 },
 "nbformat": 4,
 "nbformat_minor": 5
}
