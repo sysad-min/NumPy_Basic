{
 "cells": [
  {
   "cell_type": "code",
   "execution_count": 2,
   "id": "b944fb59",
   "metadata": {},
   "outputs": [],
   "source": [
    "import numpy as np\n",
    "import matplotlib.pyplot as plt"
   ]
  },
  {
   "cell_type": "code",
   "execution_count": 8,
   "id": "bb7c490a",
   "metadata": {},
   "outputs": [
    {
     "name": "stdout",
     "output_type": "stream",
     "text": [
      "[1, 2, 3]\n",
      "<class 'list'>\n",
      "[1 2 3]\n",
      "<class 'numpy.ndarray'>\n",
      "[[1 2 3]\n",
      " [4 5 6]]\n",
      "<class 'numpy.ndarray'>\n"
     ]
    }
   ],
   "source": [
    "# list\n",
    "tmp_list = [1,2,3]\n",
    "print(tmp_list)\n",
    "print(type(tmp_list))\n",
    "\n",
    "# 1차원 배열\n",
    "arr = np.array([1,2,3])\n",
    "print(arr)\n",
    "print(type(arr))\n",
    "\n",
    "# 2차원 배열\n",
    "arr2 = np.array([[1,2,3], [4,5,6]])\n",
    "print(arr2)\n",
    "print(type(arr2))"
   ]
  },
  {
   "cell_type": "code",
   "execution_count": 9,
   "id": "df02dcfc",
   "metadata": {},
   "outputs": [
    {
     "name": "stdout",
     "output_type": "stream",
     "text": [
      "<class 'tuple'>\n",
      "<class 'numpy.ndarray'>\n",
      "[1 2 3]\n",
      "<class 'list'>\n",
      "<class 'numpy.ndarray'>\n",
      "[[1 2 3]\n",
      " [4 5 6]]\n"
     ]
    }
   ],
   "source": [
    "tpl = (1,2,3)\n",
    "print(type(tpl))\n",
    "tpl_arr = np.array(tpl)\n",
    "print(type(tpl_arr))\n",
    "print(tpl_arr)\n",
    "\n",
    "lst2= [[1,2,3], [4,5,6]]\n",
    "print(type(lst2))\n",
    "lst2_arr = np.array(lst2)\n",
    "print(type(lst2_arr))\n",
    "print(lst2_arr)"
   ]
  },
  {
   "cell_type": "code",
   "execution_count": 14,
   "id": "b700c252",
   "metadata": {},
   "outputs": [
    {
     "name": "stdout",
     "output_type": "stream",
     "text": [
      "(3,) (2, 3)\n",
      "1 2\n",
      "3 6\n"
     ]
    }
   ],
   "source": [
    "# shape\n",
    "arr1 = np.array([1,2,3])\n",
    "arr2 = np.array([[1,2,3], [4,5,6]])\n",
    "\n",
    "print(arr1.shape, arr2.shape)\n",
    "\n",
    "# ndim\n",
    "print(arr1.ndim, arr2.ndim)\n",
    "\n",
    "# size\n",
    "print(arr1.size, arr2.size)"
   ]
  },
  {
   "cell_type": "markdown",
   "id": "3f627224",
   "metadata": {},
   "source": [
    "## N차원 배열 생성"
   ]
  },
  {
   "cell_type": "code",
   "execution_count": 39,
   "id": "28f79e1f",
   "metadata": {},
   "outputs": [
    {
     "name": "stdout",
     "output_type": "stream",
     "text": [
      "[1 2 3] int64\n",
      "[1. 2. 3.] float64\n",
      "[1 2 3] int64\n",
      "[1.  2.  3.3] float64\n",
      "['1' '2.2' '3.3'] <U32\n"
     ]
    }
   ],
   "source": [
    "arr = np.array([1,2,3])\n",
    "print(arr, arr.dtype)\n",
    "\n",
    "arr2 = np.array([1,2,3], dtype=np.float64)\n",
    "print(arr2, arr2.dtype)\n",
    "\n",
    "arr3 = np.array([1.1,2.2,3.3], dtype=np.int64)\n",
    "print(arr3, arr3.dtype)\n",
    "\n",
    "arr4 = np.array([1,2,3.3])\n",
    "print(arr4, arr4.dtype)\n",
    "\n",
    "arr5 = np.array([1,2.2,\"3.3\"])\n",
    "print(arr5, arr5.dtype)"
   ]
  },
  {
   "cell_type": "code",
   "execution_count": 33,
   "id": "71d452ea",
   "metadata": {},
   "outputs": [
    {
     "name": "stdout",
     "output_type": "stream",
     "text": [
      "[[0. 0.]\n",
      " [0. 0.]]\n",
      "[[1. 1. 1. 1. 1.]\n",
      " [1. 1. 1. 1. 1.]\n",
      " [1. 1. 1. 1. 1.]]\n",
      "[[7 7 7]\n",
      " [7 7 7]]\n",
      "[[0. 1. 0. 0.]\n",
      " [0. 0. 1. 0.]\n",
      " [0. 0. 0. 1.]]\n"
     ]
    }
   ],
   "source": [
    "arr_zeros = np.zeros([2,2])\n",
    "print(arr_zeros)\n",
    "\n",
    "arr_ones = np.ones([3,5])\n",
    "print(arr_ones)\n",
    "\n",
    "arr_full = np.full([2,3], 7)\n",
    "print(arr_full)\n",
    "\n",
    "arr_eye = np.eye(3, 4, k=1)\n",
    "print(arr_eye)"
   ]
  },
  {
   "cell_type": "code",
   "execution_count": 36,
   "id": "36abc97f",
   "metadata": {},
   "outputs": [
    {
     "name": "stdout",
     "output_type": "stream",
     "text": [
      "[[1 2 3]\n",
      " [4 5 6]]\n",
      "[[0 0 0]\n",
      " [0 0 0]]\n",
      "[[1 1 1]\n",
      " [1 1 1]]\n",
      "[[8 8 8]\n",
      " [8 8 8]]\n"
     ]
    }
   ],
   "source": [
    "arr = np.array([[1,2,3], [4,5,6]])\n",
    "print(arr)\n",
    "arr_z = np.zeros_like(arr)\n",
    "print(arr_z)\n",
    "arr_o = np.ones_like(arr)\n",
    "print(arr_o)\n",
    "arr_f = np.full_like(arr, 8)\n",
    "print(arr_f)"
   ]
  },
  {
   "cell_type": "markdown",
   "id": "4da96eab",
   "metadata": {},
   "source": [
    "## 특정 범위의 값을 가지는 배열 생성"
   ]
  },
  {
   "cell_type": "code",
   "execution_count": 40,
   "id": "bf9c03b7",
   "metadata": {},
   "outputs": [
    {
     "name": "stdout",
     "output_type": "stream",
     "text": [
      "[0, 2, 4, 6, 8]\n"
     ]
    }
   ],
   "source": [
    "lst = list(range(0,9,2))\n",
    "print(lst)"
   ]
  },
  {
   "cell_type": "code",
   "execution_count": 41,
   "id": "21305bf3",
   "metadata": {},
   "outputs": [
    {
     "name": "stdout",
     "output_type": "stream",
     "text": [
      "[0 1 2 3 4 5 6 7 8]\n"
     ]
    }
   ],
   "source": [
    "arr = np.arange(9)\n",
    "print(arr)"
   ]
  },
  {
   "cell_type": "code",
   "execution_count": 43,
   "id": "848c2d8c",
   "metadata": {},
   "outputs": [
    {
     "name": "stdout",
     "output_type": "stream",
     "text": [
      "[ 3  4  5  6  7  8  9 10 11 12]\n"
     ]
    }
   ],
   "source": [
    "arr = np.arange(3, 13)\n",
    "print(arr)"
   ]
  },
  {
   "cell_type": "code",
   "execution_count": 44,
   "id": "59fb593c",
   "metadata": {},
   "outputs": [
    {
     "name": "stdout",
     "output_type": "stream",
     "text": [
      "[ 0  3  6  9 12]\n"
     ]
    }
   ],
   "source": [
    "arr = np.arange(0, 13, 3)\n",
    "print(arr)"
   ]
  },
  {
   "cell_type": "code",
   "execution_count": 53,
   "id": "93d0f038",
   "metadata": {},
   "outputs": [
    {
     "name": "stdout",
     "output_type": "stream",
     "text": [
      "[  0.           2.04081633   4.08163265   6.12244898   8.16326531\n",
      "  10.20408163  12.24489796  14.28571429  16.32653061  18.36734694\n",
      "  20.40816327  22.44897959  24.48979592  26.53061224  28.57142857\n",
      "  30.6122449   32.65306122  34.69387755  36.73469388  38.7755102\n",
      "  40.81632653  42.85714286  44.89795918  46.93877551  48.97959184\n",
      "  51.02040816  53.06122449  55.10204082  57.14285714  59.18367347\n",
      "  61.2244898   63.26530612  65.30612245  67.34693878  69.3877551\n",
      "  71.42857143  73.46938776  75.51020408  77.55102041  79.59183673\n",
      "  81.63265306  83.67346939  85.71428571  87.75510204  89.79591837\n",
      "  91.83673469  93.87755102  95.91836735  97.95918367 100.        ]\n"
     ]
    }
   ],
   "source": [
    "# 일정한 간격으로 수를 뽑음\n",
    "arr = np.linspace(0,100,50)\n",
    "print(arr)"
   ]
  },
  {
   "cell_type": "code",
   "execution_count": 50,
   "id": "13dc4ead",
   "metadata": {},
   "outputs": [
    {
     "name": "stdout",
     "output_type": "stream",
     "text": [
      "[1.00000000e+00 1.29154967e+01 1.66810054e+02 2.15443469e+03\n",
      " 2.78255940e+04 3.59381366e+05 4.64158883e+06 5.99484250e+07\n",
      " 7.74263683e+08 1.00000000e+10]\n"
     ]
    }
   ],
   "source": [
    "arr = np.logspace(0, 10, 10, base=10)\n",
    "print(arr)"
   ]
  },
  {
   "cell_type": "markdown",
   "id": "d3e6f038",
   "metadata": {},
   "source": [
    "## 난수기반 배열 생성"
   ]
  },
  {
   "cell_type": "code",
   "execution_count": 5,
   "id": "5ddd78da",
   "metadata": {},
   "outputs": [
    {
     "name": "stdout",
     "output_type": "stream",
     "text": [
      "[-2.95193319e-01  5.01091417e-01 -2.85467753e-01  1.27696942e+00\n",
      " -6.53862915e-02  8.76284309e-01 -1.02660659e-01 -6.38068272e-02\n",
      " -4.82213334e-01  2.18400565e+00  1.07727244e+00 -1.30907673e-01\n",
      " -4.22801857e-02 -1.23170984e+00  5.08024645e-01  1.28994849e+00\n",
      " -3.25664334e-01  3.36590557e-01 -7.09959028e-02 -7.67989686e-01\n",
      "  6.09068734e-01  1.64309207e+00  1.49013269e+00 -7.91672000e-02\n",
      " -1.24278793e+00 -1.15062505e+00 -3.71342346e-01 -1.67913454e-01\n",
      " -6.91074857e-01  2.95929032e-01  1.51717228e+00 -3.50047853e-01\n",
      "  4.19165843e-01  2.99637003e-01 -1.81964897e+00  1.25654319e+00\n",
      " -3.30676504e-01  9.87975577e-02 -1.18731896e+00  7.10803214e-01\n",
      " -1.82426410e+00 -4.76252273e-01  9.56700515e-01 -1.14423334e+00\n",
      "  3.18875879e-01  1.77920885e+00  1.69618496e+00  1.09636970e+00\n",
      " -7.84321936e-01 -1.59576982e+00 -1.13026683e+00 -1.29563745e+00\n",
      " -1.41344412e+00 -1.50982865e+00  4.58526240e-02 -1.18054501e+00\n",
      "  9.91027250e-01 -3.11213355e-01  5.96492286e-01 -3.98236508e-01\n",
      "  1.68885880e-01 -2.07791731e-01  5.96453994e-01  1.84665186e-01\n",
      "  2.74811201e-01  2.69606665e-01  1.33419705e-01 -6.98506471e-01\n",
      "  5.34820630e-01 -1.61227160e-01 -1.88658018e+00  2.19071689e-02\n",
      "  2.18803284e+00 -8.38838026e-01 -8.44227545e-01  1.28470315e+00\n",
      "  8.95069113e-01  8.52071430e-01 -1.92715222e-01  1.04495054e-01\n",
      "  4.14986481e-01 -5.70776022e-01  8.23552843e-01  1.24122170e-01\n",
      "  5.84865710e-01 -4.55926901e-01  4.19254008e-01 -8.19834553e-01\n",
      "  7.82424557e-01  1.63449404e-01 -7.34168198e-01  2.51803579e+00\n",
      " -6.54631899e-02  3.66428134e-01  3.25380464e-01  4.25063697e-01\n",
      " -3.71230793e-01 -1.90728981e+00 -3.58347751e-01  5.97144486e-01\n",
      " -2.14614483e+00  1.22298569e-01  1.98194026e+00 -7.24121896e-01\n",
      "  1.89908435e-01  3.18577899e-01 -6.65815052e-01 -3.51542539e-01\n",
      " -8.84255188e-01  1.28748623e+00  1.88688454e+00 -1.01081378e+00\n",
      "  4.00946733e-01  1.21273150e+00 -1.34113918e+00  6.55411095e-01\n",
      "  2.22972332e-01 -1.34910274e+00 -2.17067067e+00  3.59482247e-02\n",
      " -1.00895047e-01  6.82295951e-01 -8.02789715e-01  5.44265121e-01\n",
      "  1.82756217e+00 -9.83573277e-01  1.24067419e-01 -1.29054084e+00\n",
      "  6.87004984e-01  3.11117323e-02 -1.63484318e+00 -7.95174199e-01\n",
      "  9.09935500e-01 -2.66703461e+00 -1.51762437e-01  1.13265562e+00\n",
      "  1.19748243e-01  3.81826975e-01 -2.87097655e-01  5.64580243e-01\n",
      "  8.77460855e-01 -6.97742461e-01 -3.11556289e-01  4.50499347e-02\n",
      "  3.76338686e-01 -8.06895146e-01  3.52317435e-01  3.31203470e-01\n",
      " -4.93936382e-01 -3.80014902e-01 -1.01210286e+00 -1.03051459e+00\n",
      "  2.43950250e+00  7.79581303e-01  1.64824101e+00  1.81991893e-01\n",
      " -9.20950695e-01 -2.64612106e+00  5.10429234e-01  2.12748884e-01\n",
      "  2.18415636e-01 -2.60888552e-01  7.70060894e-01 -2.59988285e-01\n",
      "  6.86178256e-01  1.37343745e+00  6.02502444e-01 -1.21554707e+00\n",
      "  7.10517241e-01  7.42603350e-01  7.38560605e-01 -8.13286611e-01\n",
      " -1.38282325e+00 -5.40625839e-01 -1.30966834e-01  1.65870478e+00\n",
      " -2.27584610e+00 -3.70894865e-01 -2.64937495e-01 -8.53969181e-02\n",
      " -2.09238708e-01 -3.69368706e-01 -1.28036818e-01 -2.53243520e-01\n",
      " -9.26652463e-01 -2.64342137e-02  4.21233861e-01  1.94537177e+00\n",
      "  2.68561382e+00 -1.29867354e+00  4.98458733e-01 -5.24765859e-02\n",
      " -2.63861032e+00 -4.06517497e-01 -7.68990434e-01 -6.74214483e-01\n",
      "  4.90783808e-01  1.17563756e+00  2.04187515e+00  1.06233340e+00\n",
      "  3.41754483e-01 -7.62556104e-01 -2.57381279e-01 -1.49358977e+00\n",
      " -4.45022811e-01 -7.21929091e-01 -8.07688712e-01  1.94739887e-01\n",
      "  3.33105559e-01 -1.16879685e+00 -7.23781228e-02 -6.74630481e-01\n",
      " -5.97709049e-01  3.74598903e-01 -8.21712829e-01  1.07512452e+00\n",
      " -1.03184597e+00  9.48293312e-01  3.07058172e-01 -2.70541273e+00\n",
      "  2.82562668e-01 -2.50156577e+00 -1.76488870e+00 -7.44723672e-01\n",
      " -1.79124777e+00  1.63402729e+00 -4.35216841e-01  3.26998403e-01\n",
      "  1.73023869e+00 -2.40280270e-01 -1.42109513e+00 -1.31538322e-01\n",
      " -5.52401358e-03 -2.92806515e-02 -2.20701505e-01  1.60433187e+00\n",
      " -6.63524372e-02  1.61755756e+00 -5.75896458e-01 -8.88238820e-01\n",
      " -1.88514303e+00  7.80995297e-01 -1.69503365e-01 -7.18572396e-01\n",
      " -1.20681390e+00  4.68873631e-01  3.03705058e-01  7.70657098e-01\n",
      "  3.54958143e-01  3.97194231e-01  1.42997059e-01 -6.78837857e-01\n",
      " -1.34015802e+00 -2.63712917e-01  3.67269421e-01  8.41764249e-01\n",
      " -1.00369668e+00  5.26148478e-04 -1.16537718e-01  4.05034217e-02\n",
      "  1.65812040e+00  1.22012728e+00 -1.24811632e+00 -5.34185903e-02\n",
      "  9.95171077e-01 -1.00480185e+00  5.46534871e-01  6.79474747e-01\n",
      " -2.08718130e+00 -5.41339862e-01  1.10749780e+00  9.97152730e-01\n",
      " -8.07690247e-01  4.18248848e-01  1.28914496e-01 -1.38882406e+00\n",
      " -1.67629049e+00  4.26288817e-01 -1.80507436e+00 -3.90936872e-01\n",
      " -1.61152868e-02 -9.51665369e-01  1.27651116e+00 -7.35332088e-01\n",
      "  1.39322484e-01  5.14839296e-01 -3.11777196e-01 -9.96154083e-01\n",
      " -5.65324936e-01 -1.28982114e+00  7.45404652e-01  6.15165823e-02\n",
      " -3.91693441e-01  2.76660508e-01 -1.92187690e-02  1.19751069e+00\n",
      " -3.74655642e-01  1.88564897e-02 -4.46472718e-01 -8.13410035e-01\n",
      " -2.07903758e+00  1.73364610e+00  1.10637541e+00  1.55938930e+00\n",
      " -4.18146749e-01 -2.64899357e+00 -6.77474751e-01  3.88413319e-01\n",
      " -6.78831682e-01  7.08497393e-01  2.10875942e-01 -1.66826043e+00\n",
      "  4.00347846e-01  1.11796042e+00 -2.52952789e-01  2.64431040e-01\n",
      "  7.05568883e-01  9.42892939e-01 -1.87097971e+00  1.93953829e-01\n",
      "  1.15422306e+00 -1.09757397e+00  1.53164594e+00 -4.43686664e-01\n",
      " -1.22453476e+00  1.18916475e+00  8.83158401e-01 -3.27283661e+00\n",
      "  3.44298242e-01  5.36580814e-01 -6.39670588e-01 -2.07192145e+00\n",
      " -1.39100335e-01 -1.58502527e+00  2.06189176e+00 -2.83682875e+00\n",
      "  1.60867710e+00 -5.26702141e-01  3.47245145e-01  9.00657386e-01\n",
      "  7.57524792e-02  2.72395982e-01  7.49734863e-01  1.29719437e+00\n",
      "  1.60894929e-01 -5.13282497e-01  3.73592019e-01  1.35081680e-01\n",
      " -5.52085201e-01 -2.47962687e-01  5.30119344e-01  1.91038956e+00\n",
      " -1.19684282e+00  1.13004047e+00  1.65391005e+00  1.86707344e+00\n",
      "  4.27864785e-01 -2.13141419e-01  1.87079814e-01 -1.75196834e+00\n",
      " -1.00192641e+00 -4.41076275e-01  1.26540962e+00 -1.29004106e+00\n",
      "  2.87627508e-01  8.27383915e-01 -1.37704510e-01  1.85850354e+00\n",
      " -1.08173697e+00  2.03083233e+00 -1.63959986e+00 -1.01284643e-01\n",
      "  1.20334148e+00 -2.59479950e+00  1.24310611e+00  1.75947547e+00\n",
      "  8.98576150e-01 -3.95962223e-02  4.99479740e-01 -1.03362272e+00\n",
      "  4.78564292e-01 -2.41607913e-01 -1.01648130e-02  1.01676298e+00\n",
      " -1.32545574e+00  9.84226671e-01  1.88687693e-01 -6.13219113e-01\n",
      " -1.70630050e+00  4.45576247e-01 -7.33616355e-01  5.83970503e-01\n",
      " -1.32068002e-01 -7.62936452e-01  1.23129299e+00 -1.55006832e+00\n",
      "  1.21287738e-01  1.17623409e+00  5.85125609e-01  7.74824794e-01\n",
      "  1.00880219e+00  1.00321703e+00  1.58336552e-01 -5.25902112e-02\n",
      "  2.07255059e+00 -2.36468202e-01  2.59039596e-01  2.57028595e-01\n",
      "  1.55119259e-01 -5.40212155e-02 -4.19849144e-01 -1.94551280e+00\n",
      "  1.20486080e+00 -6.25939001e-01  1.49209315e+00 -1.47378713e+00\n",
      " -5.83712569e-01  4.27576469e-02 -1.63860384e-01  5.04503492e-02\n",
      " -1.81632841e+00 -1.04185280e-01 -1.24518716e+00 -2.17631988e+00\n",
      "  2.02369334e+00  4.40444098e-01 -5.70529744e-01  1.60690835e+00\n",
      " -9.13830802e-01  2.65552201e-01  7.23751164e-01 -1.64223602e-01\n",
      " -2.91385658e-02  1.22578229e+00  7.37884425e-01 -1.68128379e+00\n",
      "  7.37284832e-01 -3.14881239e-01  2.05569143e+00 -1.44581192e+00\n",
      " -1.19587049e+00  7.94673909e-01 -1.36575724e+00 -2.34586254e-01\n",
      "  2.24441071e-01  1.87023068e-01 -6.79813228e-01  4.52694042e-01\n",
      " -5.81623955e-03 -4.22467216e-01 -1.26914886e+00 -9.81693277e-01\n",
      " -3.57045758e-01  1.76639140e+00 -3.94810086e-01 -8.83839222e-01\n",
      "  1.90202770e+00  3.92977066e-01  4.79880006e-01  1.29560366e-01\n",
      "  9.70530513e-01 -4.81290686e-03  1.02852176e+00  4.76424239e-01\n",
      " -1.27368377e+00  4.79382171e-01 -7.79130460e-01  2.39904792e+00\n",
      "  3.92137148e-01  1.03366737e+00 -8.25691976e-01  2.53923887e-01\n",
      "  3.65122295e-01  1.16556911e-01  2.76690221e-01 -1.72017084e-01\n",
      "  5.65067045e-01 -2.73083824e-01 -1.74874632e+00 -1.66331208e+00\n",
      "  5.57638020e-01 -8.17004154e-01 -6.65481451e-03  2.02980941e-01\n",
      " -1.56733177e+00  3.92925896e-01  6.72633077e-01  7.25732010e-02\n",
      "  1.67488766e+00  6.68211346e-02  1.38844996e+00  1.18197766e+00\n",
      "  8.64986736e-03  2.95785166e-01  1.46106199e-01  1.96206234e-02\n",
      " -1.74092525e+00 -4.79674704e-01  1.65000405e+00 -6.39250109e-01\n",
      " -8.87056616e-01 -1.43970850e+00  9.71633530e-01 -9.87686227e-01\n",
      "  1.61686371e+00 -5.71808589e-02 -1.71703820e+00 -1.02685447e+00\n",
      "  1.52114473e+00 -3.58705252e-02  1.34486410e+00  2.65698320e-01\n",
      "  1.60431732e+00 -3.33943508e-01 -8.83284452e-01  6.71269745e-01\n",
      " -8.46655849e-01 -1.75748330e+00 -1.02824533e+00 -4.94909233e-01\n",
      " -1.24223973e+00  9.25851253e-01  6.60931677e-02  2.39098906e+00\n",
      "  6.75401472e-01  7.96236764e-01 -4.92402493e-01  9.61469881e-01\n",
      "  7.08481417e-01  3.35028591e-01 -6.28823309e-01  4.67023145e-01\n",
      " -1.51407738e+00 -2.26928865e+00  2.63522738e-01 -1.00852290e-01\n",
      " -9.34329465e-01 -5.46878484e-02  1.80083425e-01  1.68860982e+00\n",
      " -7.28936126e-01 -1.13208955e+00 -6.77718788e-01 -1.00541557e+00\n",
      " -1.25298104e+00  6.70183870e-01 -2.00965013e-01 -1.39664280e+00\n",
      " -2.38582515e-02 -6.87399978e-02  1.23618703e+00  4.54032364e-01\n",
      " -1.64121569e+00 -4.73306754e-01  8.68392656e-01 -8.72752840e-01\n",
      "  3.52602937e-01 -1.37959005e-01  3.87628131e-01 -1.20327296e-01\n",
      "  2.20875040e+00 -1.93421679e+00 -4.27749103e-01 -1.97313757e-01\n",
      "  2.34501960e-01  1.19308813e+00  1.91429973e-01 -2.19414508e-01\n",
      " -1.33730033e+00  1.37267779e+00  3.45792628e-01  1.04444960e+00\n",
      "  1.16523595e+00  6.64380522e-01 -6.93560821e-01 -8.33774744e-01\n",
      "  1.22729500e+00  4.85648488e-01  2.07851600e-02 -1.34323817e-01\n",
      "  2.64857253e-01 -6.84427170e-01  4.53975688e-01 -4.12439640e-02\n",
      " -6.16824668e-01  4.95744257e-01  1.11052511e+00  9.70953694e-01\n",
      "  1.44452045e-01 -3.07571780e-01  2.29160923e-01 -2.78583241e-01\n",
      "  1.54236542e+00 -4.32788537e-01  1.90649814e+00  3.41684192e-01\n",
      "  1.77322441e+00  1.31778133e-01  1.60589091e+00  7.77725306e-02\n",
      "  9.78014175e-01 -9.44842230e-02 -1.20827615e-01  2.29127435e+00\n",
      " -2.09336528e-01 -3.48036570e-01  9.51879859e-01  1.31481985e+00\n",
      "  5.36499525e-01  4.21438225e-01 -2.04478393e-01 -1.25797710e-01\n",
      "  1.54030272e+00 -4.30172049e-01 -1.07532461e+00 -6.58529012e-01\n",
      "  8.06475246e-01  1.47551178e+00 -6.50295043e-01  1.50401710e-01\n",
      "  1.80796669e+00  8.35167828e-02  4.05659714e-03  4.87554319e-02\n",
      "  2.95580900e-01 -5.28557161e-02 -1.94827495e+00 -9.03704935e-01\n",
      "  1.07875270e+00  1.77176641e+00 -1.46573771e+00 -5.87857808e-01\n",
      " -2.84287754e-01  6.72121690e-01 -9.33443626e-01 -3.94518884e-01\n",
      " -9.03544663e-01 -1.81269747e+00  1.09238787e+00 -3.56139761e-01\n",
      "  2.15763407e+00  1.39025523e+00 -1.14502112e+00 -2.08001749e+00\n",
      "  3.25212472e-01  1.22694351e+00 -3.25930552e-01  9.09718189e-01\n",
      " -8.48749001e-01  2.23378714e-01 -8.14106817e-01  1.72226987e+00\n",
      "  4.51538205e-01  1.32726252e+00 -6.96760095e-01  5.17958875e-01\n",
      "  9.95397644e-01  1.56031715e+00 -4.10042625e-01  3.88907403e-02\n",
      " -1.85526028e-01  1.47793806e+00 -2.75911865e-02 -9.48313470e-01\n",
      " -9.49055649e-01  8.14093442e-01  5.47175163e-02 -3.06868673e-01\n",
      " -4.19444263e-01  9.82762667e-01 -1.41777815e+00  1.10195968e+00\n",
      " -3.07832601e-01 -7.69401821e-02 -1.00542226e-01  5.40079878e-01\n",
      " -2.71700307e+00 -6.06870008e-01  9.07965594e-01  1.33810978e+00\n",
      " -2.32828134e-01 -9.77113766e-02  3.46973240e-01 -7.72028403e-01\n",
      "  9.05518416e-02  6.96983738e-01  1.32842165e+00 -2.34594588e-01\n",
      " -1.41192230e-01  1.78710672e-01  7.19612178e-01 -6.31961831e-01\n",
      " -3.40472781e-01 -3.96697523e-01  9.10340516e-01  3.27188743e-01\n",
      " -2.47811268e-01  1.65303442e-01 -2.79115273e-01  7.65859887e-02\n",
      "  1.35346270e+00 -8.65644611e-02  3.92676108e-01  1.82809269e-01\n",
      "  7.01852279e-01  8.45443374e-02  2.97180861e-02 -1.13087822e+00\n",
      "  3.31338332e-01 -4.83240647e-01 -9.58112467e-01  4.88702837e-01\n",
      "  5.05746397e-01  8.62333014e-01  2.92103307e-01 -7.70170248e-01\n",
      "  5.22701757e-01 -8.84969402e-02 -2.15568276e+00 -1.37527908e+00\n",
      " -1.95499518e+00 -4.18437907e-02  2.91244312e-01  2.24673875e-01\n",
      "  1.38431419e+00 -5.28674787e-01  5.00207272e-01 -1.65389960e-01\n",
      "  6.68389258e-01  4.17296385e-01 -7.03066112e-01 -1.76930982e-01\n",
      " -1.44774528e+00  1.74023603e-01  2.97585143e-01 -9.88281715e-01\n",
      "  3.36533802e-01 -2.48117521e+00 -1.75620340e+00 -1.01926576e+00\n",
      "  2.05629392e-01 -1.24610720e+00 -1.10244786e+00 -4.04334856e-02\n",
      " -6.23586409e-01 -4.89998676e-01  2.55098603e+00  4.20572918e-01\n",
      " -4.11243134e-01  7.59146564e-01 -1.00105028e+00 -7.32928638e-01\n",
      " -9.90491729e-01  1.55978689e+00  3.20354383e-01 -2.34588021e-01\n",
      "  3.76486497e-01 -1.65569792e+00  1.57380596e+00  7.31869600e-01\n",
      " -9.88977519e-01 -8.20352921e-01 -1.92054615e-01 -9.03708779e-01\n",
      "  6.86229353e-01  4.24699998e-01  7.33957120e-01 -7.68736229e-01\n",
      " -1.36029386e+00  6.47953312e-01  2.47229615e+00  1.71497252e+00\n",
      "  1.48253857e-01  2.01141432e+00  8.85501146e-01 -1.04883866e-01\n",
      " -8.47211299e-01 -6.10512361e-01  9.66834937e-01 -1.78966238e-01\n",
      " -4.01404844e-01 -1.66523132e+00  1.45595603e+00 -3.91768834e-03\n",
      "  6.24082457e-01 -3.31817407e-01  3.39716564e-01 -2.10203397e+00\n",
      " -1.34993500e+00  3.97571777e-01 -1.32027628e+00 -6.90997162e-01\n",
      " -8.65362491e-01 -2.24867944e-01 -8.69390144e-01 -9.46791840e-01\n",
      " -6.66715704e-01 -8.60787153e-02  2.60679262e-01  5.80909038e-01\n",
      " -1.73295349e+00  2.31110132e-01 -9.41019461e-01 -4.40116688e-01\n",
      " -3.21312108e-01 -7.90598229e-01 -1.86889178e+00 -1.24474969e+00\n",
      "  4.07635179e-02  1.09396001e+00  5.39714887e-01 -4.49515007e-01\n",
      "  4.28607134e-03 -8.35063830e-02 -8.98453554e-01 -1.55423443e+00\n",
      " -3.20712344e-01  1.59366364e+00 -7.61252460e-01 -1.65847762e-01\n",
      " -5.75800917e-02  6.41495909e-01  1.99865487e+00 -1.41550938e+00\n",
      "  1.70842440e+00 -4.80316951e-01 -3.13310572e-01  6.16565085e-01\n",
      " -8.23277727e-01  2.06677330e-01 -1.00702032e-01 -7.59614277e-01\n",
      " -2.61995730e-01 -6.85458235e-01 -8.92146311e-01 -1.35475181e+00\n",
      "  2.74572963e-01 -1.62509195e+00  5.91073836e-01  6.11361759e-01\n",
      "  9.34251958e-02  1.25468226e+00  8.80240281e-01 -4.33674048e-01\n",
      " -1.11029501e+00  1.23474498e+00 -5.33539776e-01  5.67720817e-01\n",
      " -7.60527394e-01  6.28304854e-01 -4.39373569e-02  5.04555376e-01\n",
      " -1.98301748e+00 -1.41148727e+00 -1.11844681e+00 -8.93831687e-01\n",
      "  9.34897962e-02 -2.56985113e-01  1.89709667e+00 -6.31075249e-01\n",
      " -2.90532898e-01 -1.04439243e+00  2.84375463e-01  9.97822562e-01\n",
      "  1.15262996e-01 -2.93550694e-01  9.36240037e-01 -2.67780863e-01\n",
      " -7.00662302e-01  7.61147200e-01 -8.24473091e-01  1.82391285e+00\n",
      " -6.32178960e-01 -9.78327548e-02  3.13592779e-01  1.38349380e+00\n",
      "  4.27082154e-01 -4.64911733e-01  1.02576370e+00  9.26181265e-01\n",
      "  1.38240772e+00  1.37759580e+00 -7.18382055e-01  3.39311776e-01\n",
      "  1.94549807e+00 -7.43160350e-01 -7.53507354e-01  5.06281179e-01\n",
      "  2.90460177e-01  7.88736452e-01  9.86922350e-02  1.03808045e+00\n",
      "  1.05440191e+00  2.66977444e+00  2.27593940e-01  6.82962021e-01\n",
      " -3.47957613e-01  2.44180428e-01  4.15864400e-01 -1.94416903e-01\n",
      " -8.60733812e-01  7.12375963e-01 -1.97456984e-01 -1.84757819e-01\n",
      " -1.15052868e+00 -1.95695284e+00  7.53458341e-01  2.49531131e-02\n",
      " -1.00166638e+00  4.63293031e-01 -2.60905705e+00  7.62599678e-02\n",
      " -2.08102565e-01  3.03954375e-01 -1.01564671e-01 -4.06121492e-01\n",
      " -1.24471017e+00  3.91785478e-01 -1.64400858e-01 -1.07907366e+00\n",
      " -5.73884750e-01  6.62776644e-01 -1.16378943e+00  1.05391484e+00\n",
      " -1.16623406e+00 -1.30084524e-01 -3.13056081e-01  3.84700321e-01\n",
      "  1.24855412e+00 -3.70621624e-01 -3.11152277e-01 -1.53556873e-01\n",
      "  5.98472748e-01  3.93364308e-01 -6.26578914e-01 -2.18106884e-01\n",
      " -1.39052293e+00 -5.02656623e-01 -1.07652425e+00  6.96784797e-02\n",
      " -2.16684001e-01  7.55257039e-01  1.04792607e+00  8.70487711e-01\n",
      "  1.18488504e+00  3.87523572e-01 -7.59327346e-01  1.16123517e+00\n",
      " -1.37806990e+00  5.50893304e-01  1.55511437e+00  5.12372391e-01\n",
      "  3.91726199e-01 -2.12397635e+00 -7.08981165e-01 -8.17220230e-01\n",
      "  8.28790765e-01  6.68418277e-01  1.19965442e-01 -1.11891875e+00\n",
      "  7.75130303e-02 -6.74354463e-01  1.27849497e-01  1.49629779e+00\n",
      " -6.61874710e-01  5.45951786e-01 -1.34072161e+00  6.19866907e-01\n",
      " -1.28597213e+00 -7.59165983e-01 -7.04383502e-01  2.00249613e+00\n",
      " -9.37950698e-01 -8.71157426e-01  8.01926181e-02 -1.97023490e-01\n",
      "  8.40103432e-01 -2.08070639e-01 -1.07805341e+00 -1.08500334e+00\n",
      " -2.79019723e+00  1.69231368e-01  1.63637584e+00  1.90122421e-02\n",
      " -1.59796070e-01 -1.06987213e+00 -2.52439355e+00  1.07439722e-01\n",
      "  2.83950831e-01  2.23182312e-01 -1.33756967e+00  2.33440542e+00\n",
      "  5.55122605e-01  2.43445353e-01 -1.23268532e+00 -6.22637614e-01\n",
      "  3.44732709e-01  1.78016028e+00 -1.47066923e-01 -6.12309658e-01]\n"
     ]
    }
   ],
   "source": [
    "arr = np.random.normal(0,1, 1000)\n",
    "print(arr)"
   ]
  },
  {
   "cell_type": "code",
   "execution_count": 9,
   "id": "60125485",
   "metadata": {},
   "outputs": [
    {
     "data": {
      "image/png": "[encoded data removed]",
      "text/plain": [
       "<Figure size 432x288 with 1 Axes>"
      ]
     },
     "metadata": {
      "needs_background": "light"
     },
     "output_type": "display_data"
    }
   ],
   "source": [
    "plt.hist(arr, bins=100)\n",
    "plt.show()"
   ]
  },
  {
   "cell_type": "code",
   "execution_count": 10,
   "id": "13929161",
   "metadata": {},
   "outputs": [
    {
     "data": {
      "image/png": "[encoded data removed]",
      "text/plain": [
       "<Figure size 432x288 with 1 Axes>"
      ]
     },
     "metadata": {
      "needs_background": "light"
     },
     "output_type": "display_data"
    }
   ],
   "source": [
    "arr = np.random.rand(1000)\n",
    "plt.hist(arr, bins=100)\n",
    "plt.show()"
   ]
  },
  {
   "cell_type": "code",
   "execution_count": 12,
   "id": "31b0c757",
   "metadata": {},
   "outputs": [
    {
     "data": {
      "image/png": "[encoded data removed]",
      "text/plain": [
       "<Figure size 432x288 with 1 Axes>"
      ]
     },
     "metadata": {
      "needs_background": "light"
     },
     "output_type": "display_data"
    }
   ],
   "source": [
    "# 정규분포\n",
    "arr = np.random.randn(1000)\n",
    "plt.hist(arr, bins=100)\n",
    "plt.show()"
   ]
  },
  {
   "cell_type": "code",
   "execution_count": 16,
   "id": "9c4fb379",
   "metadata": {},
   "outputs": [
    {
     "name": "stdout",
     "output_type": "stream",
     "text": [
      "[48  2 14 34 15 88 46  4 46 57 85 13 27 26 72 53 72 36 23 72 32 26 80 11\n",
      " 32 58 84 40 50 45 39 45 10 73 51 79 20 28 86 20 42 36 21 79 93 46 97 81\n",
      " 30 77 92 23 36 23 44 78 75  7 93 75 24 14 76 17 47 73 69 50  5 75 56 69\n",
      " 35 73  8 57 86 47  8 50 31 22 86 48 22 92 80 79 59 85 57 95 99 58 85  5\n",
      "  4  7 18 66]\n"
     ]
    },
    {
     "data": {
      "image/png": "[encoded data removed]",
      "text/plain": [
       "<Figure size 432x288 with 1 Axes>"
      ]
     },
     "metadata": {
      "needs_background": "light"
     },
     "output_type": "display_data"
    }
   ],
   "source": [
    "arr = np.random.randint(low=1, high=100, size=100)\n",
    "print(arr)\n",
    "plt.hist(arr, bins=100)\n",
    "plt.show()"
   ]
  },
  {
   "cell_type": "markdown",
   "id": "6b2df99e",
   "metadata": {},
   "source": [
    "## 시드값을 통한 난수 생성 제어"
   ]
  },
  {
   "cell_type": "code",
   "execution_count": 18,
   "id": "9fd3ac35",
   "metadata": {},
   "outputs": [
    {
     "name": "stdout",
     "output_type": "stream",
     "text": [
      "[0.81275405 0.09095721 0.90092175 0.90894126 0.04683048 0.8185117\n",
      " 0.32444674 0.98078053 0.02446375 0.07334423]\n",
      "[0.77200844 0.27915037 0.82982789 0.88858953 0.09450385 0.29479216\n",
      " 0.36923266 0.36881534 0.5080684  0.4641669 ]\n"
     ]
    }
   ],
   "source": [
    "arr = np.random.rand(10)\n",
    "print(arr)\n",
    "\n",
    "arr = np.random.rand(10)\n",
    "print(arr)"
   ]
  },
  {
   "cell_type": "code",
   "execution_count": 20,
   "id": "b93ef15d",
   "metadata": {},
   "outputs": [
    {
     "name": "stdout",
     "output_type": "stream",
     "text": [
      "[4.17022005e-01 7.20324493e-01 1.14374817e-04 3.02332573e-01\n",
      " 1.46755891e-01 9.23385948e-02 1.86260211e-01 3.45560727e-01\n",
      " 3.96767474e-01 5.38816734e-01]\n",
      "[4.17022005e-01 7.20324493e-01 1.14374817e-04 3.02332573e-01\n",
      " 1.46755891e-01 9.23385948e-02 1.86260211e-01 3.45560727e-01\n",
      " 3.96767474e-01 5.38816734e-01]\n"
     ]
    }
   ],
   "source": [
    "np.random.seed(1)\n",
    "arr = np.random.rand(10)\n",
    "print(arr)\n",
    "np.random.seed(1)\n",
    "arr = np.random.rand(10)\n",
    "print(arr)"
   ]
  },
  {
   "cell_type": "code",
   "execution_count": null,
   "id": "403a3c5e",
   "metadata": {},
   "outputs": [],
   "source": []
  }
 ],
 "metadata": {
  "kernelspec": {
   "display_name": "py3.9_study",
   "language": "python",
   "name": "py3.9_study"
  },
  "language_info": {
   "codemirror_mode": {
    "name": "ipython",
    "version": 3
   },
   "file_extension": ".py",
   "mimetype": "text/x-python",
   "name": "python",
   "nbconvert_exporter": "python",
   "pygments_lexer": "ipython3",
   "version": "3.9.7"
  }
 },
 "nbformat": 4,
 "nbformat_minor": 5
}
